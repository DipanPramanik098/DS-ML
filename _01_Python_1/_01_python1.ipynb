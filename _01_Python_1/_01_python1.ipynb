{
 "cells": [
  {
   "cell_type": "code",
   "execution_count": 1,
   "id": "e6c191fc-ba7f-4a75-a124-8567455bc459",
   "metadata": {},
   "outputs": [
    {
     "name": "stdout",
     "output_type": "stream",
     "text": [
      "Hello\n"
     ]
    }
   ],
   "source": [
    "print(\"Hello\");"
   ]
  },
  {
   "cell_type": "code",
   "execution_count": 2,
   "id": "d990cf5d-7efc-4de1-959c-86849129870a",
   "metadata": {},
   "outputs": [
    {
     "name": "stdout",
     "output_type": "stream",
     "text": [
      "15\n"
     ]
    }
   ],
   "source": [
    "a = 5;\n",
    "b=10;\n",
    "print(a + b);"
   ]
  },
  {
   "cell_type": "markdown",
   "id": "d292f300-4e57-4f5a-8899-720a98ee9f6e",
   "metadata": {},
   "source": [
    "##Hello World\n",
    "This is markDown cell.\n",
    "\n",
    "-A\n",
    "-B\n",
    "-C\n",
    "\n",
    "shortcut for markdown \n",
    "1. escape + m\n",
    "2. shift + enter (for run)\n"
   ]
  },
  {
   "cell_type": "code",
   "execution_count": 11,
   "id": "a2460552-6cae-4c74-835f-7f515875f3bb",
   "metadata": {},
   "outputs": [],
   "source": [
    "x = 10"
   ]
  },
  {
   "cell_type": "code",
   "execution_count": 9,
   "id": "17cd3cfb-0dc7-4446-9934-0f343b6fcfd0",
   "metadata": {},
   "outputs": [],
   "source": [
    "x = 5"
   ]
  },
  {
   "cell_type": "code",
   "execution_count": 12,
   "id": "43472f00-6b10-4a07-86f3-1eed7ed23be6",
   "metadata": {},
   "outputs": [
    {
     "name": "stdout",
     "output_type": "stream",
     "text": [
      "10\n"
     ]
    }
   ],
   "source": [
    "print (x)"
   ]
  },
  {
   "cell_type": "markdown",
   "id": "ac68f275-efe1-48c6-adaf-dd292e8f334e",
   "metadata": {},
   "source": [
    "## order ot run matter here - > x = 5 i run first then x =10 run so that the x value is printed as 10. so try to run line by line for better understanding"
   ]
  },
  {
   "cell_type": "code",
   "execution_count": null,
   "id": "48c7b9bb-8c5d-46b2-8613-2cb3fe3a89e4",
   "metadata": {},
   "outputs": [],
   "source": []
  }
 ],
 "metadata": {
  "kernelspec": {
   "display_name": "Python 3 (ipykernel)",
   "language": "python",
   "name": "python3"
  },
  "language_info": {
   "codemirror_mode": {
    "name": "ipython",
    "version": 3
   },
   "file_extension": ".py",
   "mimetype": "text/x-python",
   "name": "python",
   "nbconvert_exporter": "python",
   "pygments_lexer": "ipython3",
   "version": "3.11.0"
  }
 },
 "nbformat": 4,
 "nbformat_minor": 5
}
