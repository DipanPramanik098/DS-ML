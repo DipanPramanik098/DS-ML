{
 "cells": [
  {
   "cell_type": "code",
   "execution_count": 1,
   "id": "a1d333f2",
   "metadata": {},
   "outputs": [
    {
     "name": "stdout",
     "output_type": "stream",
     "text": [
      "x = True , y = False \n",
      "\n",
      "1. x and y : False\n",
      "2. x or y  : True\n",
      "3. not x   : False\n",
      "4. not y   : True\n",
      "\n",
      "With numbers (non-boolean):\n",
      "a and b : 0\n",
      "a or b  : 10\n",
      "not a   : False\n",
      "not b   : True\n",
      "\n",
      "Truth Table for and/or:\n",
      "x     y     x and y   x or y\n",
      "1     1     1         True\n",
      "1     0     0         True\n",
      "0     1     0         True\n",
      "0     0     0         False\n"
     ]
    }
   ],
   "source": [
    "# Logical Operators in Python\n",
    "\n",
    "x = True\n",
    "y = False\n",
    "\n",
    "print(\"x =\", x, \", y =\", y, \"\\n\")\n",
    "\n",
    "# 1. Logical AND\n",
    "print(\"1. x and y :\", x and y)   # False (because both are not True)\n",
    "\n",
    "# 2. Logical OR\n",
    "print(\"2. x or y  :\", x or y)    # True  (because at least one is True)\n",
    "\n",
    "# 3. Logical NOT\n",
    "print(\"3. not x   :\", not x)     # False (because x is True)\n",
    "print(\"4. not y   :\", not y)     # True  (because y is False) \n",
    "\n",
    "# ----------------------------\n",
    "# Extra: Using numbers (non-boolean values)\n",
    "a = 10\n",
    "b = 0\n",
    "\n",
    "print(\"\\nWith numbers (non-boolean):\")\n",
    "print(\"a and b :\", a and b)   # 0 (because 'and' returns second value if first is truthy)\n",
    "print(\"a or b  :\", a or b)    # 10 (because 'or' returns first truthy value)\n",
    "print(\"not a   :\", not a)     # False (10 is considered True, so not 10 = False)\n",
    "print(\"not b   :\", not b)     # True  (0 is considered False, so not 0 = True)\n",
    "\n",
    "# ----------------------------\n",
    "# Truth table (for quick reference)\n",
    "print(\"\\nTruth Table for and/or:\")\n",
    "print(\"x     y     x and y   x or y\")\n",
    "for X in [True, False]:\n",
    "    for Y in [True, False]:\n",
    "        print(f\"{X:<5} {Y:<5} {X and Y:<9} {X or Y}\")\n"
   ]
  },
  {
   "cell_type": "code",
   "execution_count": null,
   "id": "9c02d95a",
   "metadata": {},
   "outputs": [],
   "source": []
  }
 ],
 "metadata": {
  "kernelspec": {
   "display_name": "Python 3",
   "language": "python",
   "name": "python3"
  },
  "language_info": {
   "codemirror_mode": {
    "name": "ipython",
    "version": 3
   },
   "file_extension": ".py",
   "mimetype": "text/x-python",
   "name": "python",
   "nbconvert_exporter": "python",
   "pygments_lexer": "ipython3",
   "version": "3.11.0"
  }
 },
 "nbformat": 4,
 "nbformat_minor": 5
}
