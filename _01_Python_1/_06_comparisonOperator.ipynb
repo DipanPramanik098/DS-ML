{
 "cells": [
  {
   "cell_type": "code",
   "execution_count": 1,
   "id": "00592348",
   "metadata": {},
   "outputs": [],
   "source": [
    "10 == 10;"
   ]
  },
  {
   "cell_type": "code",
   "execution_count": 2,
   "id": "949a5793",
   "metadata": {},
   "outputs": [
    {
     "data": {
      "text/plain": [
       "False"
      ]
     },
     "execution_count": 2,
     "metadata": {},
     "output_type": "execute_result"
    }
   ],
   "source": [
    "10!=10"
   ]
  },
  {
   "cell_type": "code",
   "execution_count": 3,
   "id": "136ca120",
   "metadata": {},
   "outputs": [
    {
     "data": {
      "text/plain": [
       "False"
      ]
     },
     "execution_count": 3,
     "metadata": {},
     "output_type": "execute_result"
    }
   ],
   "source": [
    "10 > 20"
   ]
  },
  {
   "cell_type": "code",
   "execution_count": 4,
   "id": "9877350e",
   "metadata": {},
   "outputs": [
    {
     "data": {
      "text/plain": [
       "True"
      ]
     },
     "execution_count": 4,
     "metadata": {},
     "output_type": "execute_result"
    }
   ],
   "source": [
    "10 < 20"
   ]
  },
  {
   "cell_type": "code",
   "execution_count": 5,
   "id": "351b9d0b",
   "metadata": {},
   "outputs": [
    {
     "data": {
      "text/plain": [
       "False"
      ]
     },
     "execution_count": 5,
     "metadata": {},
     "output_type": "execute_result"
    }
   ],
   "source": [
    "10>=20"
   ]
  },
  {
   "cell_type": "code",
   "execution_count": 6,
   "id": "1eb9a929",
   "metadata": {},
   "outputs": [
    {
     "data": {
      "text/plain": [
       "True"
      ]
     },
     "execution_count": 6,
     "metadata": {},
     "output_type": "execute_result"
    }
   ],
   "source": [
    "10<=20"
   ]
  },
  {
   "cell_type": "code",
   "execution_count": 7,
   "id": "a9deb347",
   "metadata": {},
   "outputs": [
    {
     "name": "stdout",
     "output_type": "stream",
     "text": [
      "a = 10 , b = 20 \n",
      "\n",
      "a == b : False\n",
      "a != b : True\n",
      "a > b  : False\n",
      "a < b  : True\n",
      "a >= b : False\n",
      "a <= b : True\n",
      "\n",
      "String comparison:\n",
      "x == y : False\n",
      "x != y : True\n",
      "x < y  : True\n",
      "x > y  : False\n"
     ]
    }
   ],
   "source": [
    "# Comparison Operators in Python\n",
    "# These operators compare values and return a Boolean (True or False)\n",
    "\n",
    "a = 10\n",
    "b = 20\n",
    "\n",
    "print(\"a =\", a, \", b =\", b, \"\\n\")\n",
    "\n",
    "# 1. Equal to (==)\n",
    "print(\"a == b :\", a == b)   # False, because 10 is not equal to 20\n",
    "\n",
    "# 2. Not equal to (!=)\n",
    "print(\"a != b :\", a != b)   # True, because 10 is not equal to 20\n",
    "\n",
    "# 3. Greater than (>)\n",
    "print(\"a > b  :\", a > b)    # False, because 10 is not greater than 20\n",
    "\n",
    "# 4. Less than (<)\n",
    "print(\"a < b  :\", a < b)    # True, because 10 is less than 20\n",
    "\n",
    "# 5. Greater than or equal to (>=)\n",
    "print(\"a >= b :\", a >= b)   # False, because 10 is not greater than or equal to 20\n",
    "\n",
    "# 6. Less than or equal to (<=)\n",
    "print(\"a <= b :\", a <= b)   # True, because 10 is less than or equal to 20\n",
    "\n",
    "# Extra Example: With strings\n",
    "x = \"apple\"\n",
    "y = \"banana\"\n",
    "print(\"\\nString comparison:\")\n",
    "print(\"x == y :\", x == y)   # False\n",
    "print(\"x != y :\", x != y)   # True\n",
    "print(\"x < y  :\", x < y)    # True (because 'apple' comes before 'banana' lexicographically)\n",
    "print(\"x > y  :\", x > y)    # False\n"
   ]
  },
  {
   "cell_type": "code",
   "execution_count": 8,
   "id": "1cacb467",
   "metadata": {},
   "outputs": [
    {
     "data": {
      "text/plain": [
       "97"
      ]
     },
     "execution_count": 8,
     "metadata": {},
     "output_type": "execute_result"
    }
   ],
   "source": [
    "ord(\"a\")"
   ]
  },
  {
   "cell_type": "code",
   "execution_count": null,
   "id": "060b76f4",
   "metadata": {},
   "outputs": [],
   "source": []
  }
 ],
 "metadata": {
  "kernelspec": {
   "display_name": "Python 3",
   "language": "python",
   "name": "python3"
  },
  "language_info": {
   "codemirror_mode": {
    "name": "ipython",
    "version": 3
   },
   "file_extension": ".py",
   "mimetype": "text/x-python",
   "name": "python",
   "nbconvert_exporter": "python",
   "pygments_lexer": "ipython3",
   "version": "3.11.0"
  }
 },
 "nbformat": 4,
 "nbformat_minor": 5
}
