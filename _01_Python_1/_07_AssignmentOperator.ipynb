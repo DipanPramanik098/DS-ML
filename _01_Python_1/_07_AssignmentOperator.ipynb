{
 "cells": [
  {
   "cell_type": "code",
   "execution_count": 2,
   "id": "2216e5d5",
   "metadata": {},
   "outputs": [
    {
     "name": "stdout",
     "output_type": "stream",
     "text": [
      "Initial value of a: 10\n",
      "\n",
      "1. b = a : 10\n",
      "2. a += 5 : 15\n",
      "3. a -= 3 : 12\n",
      "4. a *= 2 : 24\n",
      "5. a /= 4 : 6.0\n",
      "6. a //= 2 : 3.0\n",
      "7. a %= 3 : 0.0\n",
      "8. a **= 4 : 0.0\n",
      "\n",
      "Re-initialized a for bitwise ops: 7\n",
      "9. a &= 2 : 2\n",
      "10. a |= 5 : 7\n",
      "11. a ^= 3 : 4\n",
      "12. a >>= 1 : 2\n",
      "13. a <<= 2 : 8\n"
     ]
    }
   ],
   "source": [
    "# Assignment Operators in Python\n",
    "# Used to assign values to variables\n",
    "\n",
    "a = 10\n",
    "print(\"Initial value of a:\", a)\n",
    "\n",
    "# 1. Assignment (=)\n",
    "b = a\n",
    "print(\"\\n1. b = a :\", b)\n",
    "\n",
    "# 2. Add and assign (+=)\n",
    "a += 5   # a = a + 5\n",
    "print(\"2. a += 5 :\", a)\n",
    "\n",
    "# 3. Subtract and assign (-=)\n",
    "a -= 3   # a = a - 3\n",
    "print(\"3. a -= 3 :\", a)\n",
    "\n",
    "# 4. Multiply and assign (*=)\n",
    "a *= 2   # a = a * 2\n",
    "print(\"4. a *= 2 :\", a)\n",
    "\n",
    "# 5. Divide and assign (/=)   --> gives float\n",
    "a /= 4   # a = a / 4\n",
    "print(\"5. a /= 4 :\", a)\n",
    "\n",
    "# 6. Floor Divide and assign (//=)\n",
    "a //= 2  # a = a // 2\n",
    "print(\"6. a //= 2 :\", a)\n",
    "\n",
    "# 7. Modulus and assign (%=)\n",
    "a %= 3   # a = a % 3\n",
    "print(\"7. a %= 3 :\", a)\n",
    "\n",
    "# 8. Exponent and assign (**=)\n",
    "a **= 4  # a = a ** 4\n",
    "print(\"8. a **= 4 :\", a)\n",
    "\n",
    "# Re-initialize a as integer for bitwise operators\n",
    "a = 7\n",
    "print(\"\\nRe-initialized a for bitwise ops:\", a)\n",
    "\n",
    "# 9. Bitwise AND and assign (&=)\n",
    "a &= 2   # a = a & 2\n",
    "print(\"9. a &= 2 :\", a)\n",
    "\n",
    "# 10. Bitwise OR and assign (|=)\n",
    "a |= 5   # a = a | 5\n",
    "print(\"10. a |= 5 :\", a)\n",
    "\n",
    "# 11. Bitwise XOR and assign (^=)\n",
    "a ^= 3   # a = a ^ 3\n",
    "print(\"11. a ^= 3 :\", a)\n",
    "\n",
    "# 12. Bitwise Right shift and assign (>>=)\n",
    "a >>= 1  # a = a >> 1\n",
    "print(\"12. a >>= 1 :\", a)\n",
    "\n",
    "# 13. Bitwise Left shift and assign (<<=)\n",
    "a <<= 2  # a = a << 2\n",
    "print(\"13. a <<= 2 :\", a)\n"
   ]
  },
  {
   "cell_type": "code",
   "execution_count": null,
   "id": "41a26aae",
   "metadata": {},
   "outputs": [],
   "source": []
  }
 ],
 "metadata": {
  "kernelspec": {
   "display_name": "Python 3",
   "language": "python",
   "name": "python3"
  },
  "language_info": {
   "codemirror_mode": {
    "name": "ipython",
    "version": 3
   },
   "file_extension": ".py",
   "mimetype": "text/x-python",
   "name": "python",
   "nbconvert_exporter": "python",
   "pygments_lexer": "ipython3",
   "version": "3.11.0"
  }
 },
 "nbformat": 4,
 "nbformat_minor": 5
}
