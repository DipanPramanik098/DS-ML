{
 "cells": [
  {
   "cell_type": "code",
   "execution_count": 1,
   "id": "e9da9770-2968-454e-90c7-40c249de74bd",
   "metadata": {},
   "outputs": [
    {
     "name": "stdout",
     "output_type": "stream",
     "text": [
      "Hello World\n"
     ]
    }
   ],
   "source": [
    "print(\"Hello World\");"
   ]
  },
  {
   "cell_type": "code",
   "execution_count": 2,
   "id": "d0f95172-4ae5-48b6-81b6-ab5a2d0adb16",
   "metadata": {},
   "outputs": [
    {
     "name": "stdout",
     "output_type": "stream",
     "text": [
      "Dipan Pramanik\n"
     ]
    }
   ],
   "source": [
    "#This is a comment\n",
    "\n",
    "print (\"Dipan Pramanik\");"
   ]
  },
  {
   "cell_type": "code",
   "execution_count": 3,
   "id": "05d523bb-fc2a-47c7-aa57-f6a8b4ead539",
   "metadata": {},
   "outputs": [
    {
     "name": "stdout",
     "output_type": "stream",
     "text": [
      "Dipan Pramanik\n"
     ]
    }
   ],
   "source": [
    "''' \n",
    "Multi Line Comment\n",
    "'''\n",
    "\n",
    "print (\"Dipan Pramanik\");"
   ]
  },
  {
   "cell_type": "markdown",
   "id": "f9c76569-0c63-42b7-8018-90ae2115c13a",
   "metadata": {},
   "source": [
    "'''\n",
    "these are multiLine text \n",
    "'''"
   ]
  },
  {
   "cell_type": "markdown",
   "id": "bbce9863-e1a8-4690-a85d-9743c2b0b247",
   "metadata": {},
   "source": [
    "##Constants\n",
    "Numbers => Integer, Floats\n",
    "Strings => single quotes, Double quotes, Triple quotes, Escape Sequence(\\n, \\t, \\r), Explixit Line Joining\n"
   ]
  },
  {
   "cell_type": "code",
   "execution_count": 4,
   "id": "c19e6389-57df-4168-ad90-c219969f5bd3",
   "metadata": {},
   "outputs": [],
   "source": [
    "a = 5"
   ]
  },
  {
   "cell_type": "code",
   "execution_count": 5,
   "id": "a4c868fc-dee0-46f6-ba5e-2176c0d439d1",
   "metadata": {},
   "outputs": [
    {
     "data": {
      "text/plain": [
       "int"
      ]
     },
     "execution_count": 5,
     "metadata": {},
     "output_type": "execute_result"
    }
   ],
   "source": [
    "type(a)"
   ]
  },
  {
   "cell_type": "code",
   "execution_count": 6,
   "id": "e4199dca-ae48-4db4-bba8-8812c978f92f",
   "metadata": {},
   "outputs": [
    {
     "data": {
      "text/plain": [
       "float"
      ]
     },
     "execution_count": 6,
     "metadata": {},
     "output_type": "execute_result"
    }
   ],
   "source": [
    "b=1.4\n",
    "type(b)"
   ]
  },
  {
   "cell_type": "code",
   "execution_count": 7,
   "id": "f44a5769-29f2-4daa-ae10-2d8db17f9aaf",
   "metadata": {},
   "outputs": [
    {
     "data": {
      "text/plain": [
       "complex"
      ]
     },
     "execution_count": 7,
     "metadata": {},
     "output_type": "execute_result"
    }
   ],
   "source": [
    "x = 1 + 5j\n",
    "type(x)"
   ]
  },
  {
   "cell_type": "code",
   "execution_count": 9,
   "id": "3968266c-f33a-43b2-a244-0672ed620e06",
   "metadata": {},
   "outputs": [
    {
     "name": "stdout",
     "output_type": "stream",
     "text": [
      "Hello I am Dipan\n"
     ]
    },
    {
     "data": {
      "text/plain": [
       "str"
      ]
     },
     "execution_count": 9,
     "metadata": {},
     "output_type": "execute_result"
    }
   ],
   "source": [
    "name = \"Hello I am Dipan\"\n",
    "print(name);\n",
    "type(name)"
   ]
  },
  {
   "cell_type": "code",
   "execution_count": 10,
   "id": "d2146a07-a2ef-4607-809d-649e5bcb262c",
   "metadata": {},
   "outputs": [],
   "source": [
    "x = '''\n",
    "Helloo\n",
    "all\n",
    "hii\n",
    "'''"
   ]
  },
  {
   "cell_type": "code",
   "execution_count": 11,
   "id": "da5d0ed2-6131-41ce-af39-1878da5bba64",
   "metadata": {},
   "outputs": [
    {
     "name": "stdout",
     "output_type": "stream",
     "text": [
      "\n",
      "Helloo\n",
      "all\n",
      "hii\n",
      "\n"
     ]
    }
   ],
   "source": [
    "print(x)"
   ]
  },
  {
   "cell_type": "code",
   "execution_count": 12,
   "id": "d463026b-5c4f-482d-82df-4ec0cb7d2de9",
   "metadata": {},
   "outputs": [
    {
     "name": "stdout",
     "output_type": "stream",
     "text": [
      "\n",
      "Hello \n",
      "Multiline\n",
      "String\n",
      "\n"
     ]
    }
   ],
   "source": [
    "y = \"\"\"\n",
    "Hello \n",
    "Multiline\n",
    "String\n",
    "\"\"\"\n",
    "print(y)"
   ]
  },
  {
   "cell_type": "code",
   "execution_count": 1,
   "id": "52b1f70e-526d-49bd-aed4-b420ad86a9e3",
   "metadata": {},
   "outputs": [
    {
     "name": "stdout",
     "output_type": "stream",
     "text": [
      "Try to Write in Vs Code\n"
     ]
    }
   ],
   "source": [
    "print(\"Try to Write in Vs Code\");"
   ]
  },
  {
   "cell_type": "code",
   "execution_count": null,
   "id": "67afc7da",
   "metadata": {},
   "outputs": [],
   "source": []
  }
 ],
 "metadata": {
  "kernelspec": {
   "display_name": "Python 3",
   "language": "python",
   "name": "python3"
  },
  "language_info": {
   "codemirror_mode": {
    "name": "ipython",
    "version": 3
   },
   "file_extension": ".py",
   "mimetype": "text/x-python",
   "name": "python",
   "nbconvert_exporter": "python",
   "pygments_lexer": "ipython3",
   "version": "3.11.0"
  }
 },
 "nbformat": 4,
 "nbformat_minor": 5
}
