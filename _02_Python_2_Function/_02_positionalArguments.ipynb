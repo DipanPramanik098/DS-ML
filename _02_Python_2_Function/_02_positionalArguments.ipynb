{
 "cells": [
  {
   "cell_type": "code",
   "execution_count": 1,
   "id": "74967d01",
   "metadata": {},
   "outputs": [],
   "source": [
    "def show(*args):\n",
    "    print(args);"
   ]
  },
  {
   "cell_type": "code",
   "execution_count": 2,
   "id": "7ae2117e",
   "metadata": {},
   "outputs": [
    {
     "name": "stdout",
     "output_type": "stream",
     "text": [
      "()\n"
     ]
    }
   ],
   "source": [
    "show();"
   ]
  },
  {
   "cell_type": "code",
   "execution_count": 3,
   "id": "57b56893",
   "metadata": {},
   "outputs": [
    {
     "name": "stdout",
     "output_type": "stream",
     "text": [
      "(1, 2, 3, 'Dipan')\n"
     ]
    }
   ],
   "source": [
    "show(1,2,3,\"Dipan\");"
   ]
  },
  {
   "cell_type": "code",
   "execution_count": 4,
   "id": "fefa38c4",
   "metadata": {},
   "outputs": [],
   "source": [
    "def show2(a,b,*args):\n",
    "    print(a,b,args);"
   ]
  },
  {
   "cell_type": "code",
   "execution_count": 5,
   "id": "640057da",
   "metadata": {},
   "outputs": [
    {
     "name": "stdout",
     "output_type": "stream",
     "text": [
      "1 2 (3, 4, 'Hello')\n"
     ]
    }
   ],
   "source": [
    "show2(1,2,3,4,\"Hello\");"
   ]
  },
  {
   "cell_type": "code",
   "execution_count": 6,
   "id": "ee26dc5d",
   "metadata": {},
   "outputs": [],
   "source": [
    "def abc(a,b,**args):\n",
    "    print(a,b,args);"
   ]
  },
  {
   "cell_type": "code",
   "execution_count": 8,
   "id": "7aeb31a8",
   "metadata": {},
   "outputs": [
    {
     "name": "stdout",
     "output_type": "stream",
     "text": [
      "1 2 {'x': 100, 'y': 200, 'z': 300}\n"
     ]
    }
   ],
   "source": [
    "abc(1, 2, x=100, y=200, z=300)\n"
   ]
  },
  {
   "cell_type": "code",
   "execution_count": null,
   "id": "e846cfe2",
   "metadata": {},
   "outputs": [],
   "source": []
  }
 ],
 "metadata": {
  "kernelspec": {
   "display_name": "Python 3",
   "language": "python",
   "name": "python3"
  },
  "language_info": {
   "codemirror_mode": {
    "name": "ipython",
    "version": 3
   },
   "file_extension": ".py",
   "mimetype": "text/x-python",
   "name": "python",
   "nbconvert_exporter": "python",
   "pygments_lexer": "ipython3",
   "version": "3.11.0"
  }
 },
 "nbformat": 4,
 "nbformat_minor": 5
}
