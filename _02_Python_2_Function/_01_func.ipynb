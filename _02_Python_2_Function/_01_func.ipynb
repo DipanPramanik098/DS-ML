{
 "cells": [
  {
   "cell_type": "code",
   "execution_count": 2,
   "id": "475d6a4a",
   "metadata": {},
   "outputs": [
    {
     "name": "stdout",
     "output_type": "stream",
     "text": [
      "Dipan Pramanik\n"
     ]
    }
   ],
   "source": [
    "def myName():\n",
    "    print(\"Dipan Pramanik\");\n",
    "\n",
    "myName();"
   ]
  },
  {
   "cell_type": "code",
   "execution_count": 3,
   "id": "fd65f09c",
   "metadata": {},
   "outputs": [
    {
     "name": "stdout",
     "output_type": "stream",
     "text": [
      "88.1\n"
     ]
    }
   ],
   "source": [
    "def sum(a , b):\n",
    "    return a+b;\n",
    "\n",
    "print(sum(12,76.1));"
   ]
  },
  {
   "cell_type": "code",
   "execution_count": 4,
   "id": "ba44f28e",
   "metadata": {},
   "outputs": [
    {
     "name": "stdout",
     "output_type": "stream",
     "text": [
      "36\n",
      "48\n"
     ]
    }
   ],
   "source": [
    "##default Parameter\n",
    "\n",
    "def mul(a,b=3):\n",
    "    return a*b;\n",
    "\n",
    "print(mul(12));\n",
    "\n",
    "print(mul(12,4));"
   ]
  },
  {
   "cell_type": "code",
   "execution_count": 6,
   "id": "99ef1852",
   "metadata": {},
   "outputs": [
    {
     "name": "stdout",
     "output_type": "stream",
     "text": [
      "division by zero\n",
      "wrapping Up\n",
      "None\n"
     ]
    }
   ],
   "source": [
    "def devide(a, b):\n",
    "    try:\n",
    "        return a / b\n",
    "    except Exception as e:   # Correct way\n",
    "        print(e)\n",
    "    finally:\n",
    "        print(\"wrapping Up\")\n",
    "\n",
    "print(devide(10, 0))\n"
   ]
  },
  {
   "cell_type": "code",
   "execution_count": null,
   "id": "f8d6b78e",
   "metadata": {},
   "outputs": [
    {
     "name": "stdout",
     "output_type": "stream",
     "text": [
      "wrapping Up\n",
      "5.0\n"
     ]
    }
   ],
   "source": [
    "print(devide(10,2))"
   ]
  },
  {
   "cell_type": "code",
   "execution_count": 8,
   "id": "6b125de1",
   "metadata": {},
   "outputs": [],
   "source": [
    "def outer():\n",
    "    x = \"local\";\n",
    "    def inner():\n",
    "        print(x);\n",
    "    inner();\n",
    "    print(x);"
   ]
  },
  {
   "cell_type": "code",
   "execution_count": 17,
   "id": "45632f64",
   "metadata": {},
   "outputs": [
    {
     "name": "stdout",
     "output_type": "stream",
     "text": [
      "Inner function b: local scope variable\n",
      "Accessing a from enclosing scope: enclosure scope variable\n"
     ]
    }
   ],
   "source": [
    "def outer_function():\n",
    "    a = \"enclosure scope variable\"   # variable in enclosing scope\n",
    "\n",
    "    def inner_function():\n",
    "        b = \"local scope variable\"   # variable in local scope\n",
    "        print(\"Inner function b:\", b)\n",
    "        print(\"Accessing a from enclosing scope:\", a)\n",
    "\n",
    "    inner_function()\n",
    "\n",
    "outer_function()\n"
   ]
  },
  {
   "cell_type": "code",
   "execution_count": 18,
   "id": "e9bdae89",
   "metadata": {},
   "outputs": [
    {
     "name": "stdout",
     "output_type": "stream",
     "text": [
      "Updated total: 15\n",
      "Updated total: 25\n"
     ]
    }
   ],
   "source": [
    "def outer_function():\n",
    "    total = 5   # enclosure scope variable\n",
    "\n",
    "    def inner_function():\n",
    "        nonlocal total\n",
    "        total += 10   # modifying enclosure variable\n",
    "        print(\"Updated total:\", total)\n",
    "\n",
    "    inner_function()\n",
    "    inner_function()\n",
    "\n",
    "outer_function()\n"
   ]
  },
  {
   "cell_type": "code",
   "execution_count": null,
   "id": "cdd0c64f",
   "metadata": {},
   "outputs": [],
   "source": []
  },
  {
   "cell_type": "code",
   "execution_count": null,
   "id": "7891446d",
   "metadata": {},
   "outputs": [],
   "source": []
  },
  {
   "cell_type": "code",
   "execution_count": null,
   "id": "e97a44ef",
   "metadata": {},
   "outputs": [],
   "source": []
  }
 ],
 "metadata": {
  "kernelspec": {
   "display_name": "Python 3",
   "language": "python",
   "name": "python3"
  },
  "language_info": {
   "codemirror_mode": {
    "name": "ipython",
    "version": 3
   },
   "file_extension": ".py",
   "mimetype": "text/x-python",
   "name": "python",
   "nbconvert_exporter": "python",
   "pygments_lexer": "ipython3",
   "version": "3.11.0"
  }
 },
 "nbformat": 4,
 "nbformat_minor": 5
}
