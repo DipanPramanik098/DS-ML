{
 "cells": [
  {
   "cell_type": "code",
   "execution_count": 5,
   "id": "ae524194",
   "metadata": {},
   "outputs": [],
   "source": [
    "def fun(*args):\n",
    "    print(args);\n",
    "    print(type(args));"
   ]
  },
  {
   "cell_type": "code",
   "execution_count": 6,
   "id": "3e320055",
   "metadata": {},
   "outputs": [
    {
     "name": "stdout",
     "output_type": "stream",
     "text": [
      "(1,)\n",
      "<class 'tuple'>\n"
     ]
    }
   ],
   "source": [
    "fun(1);"
   ]
  },
  {
   "cell_type": "code",
   "execution_count": 7,
   "id": "f8786367",
   "metadata": {},
   "outputs": [
    {
     "name": "stdout",
     "output_type": "stream",
     "text": [
      "(1, 2, 3, 4, 5, 6)\n",
      "<class 'tuple'>\n"
     ]
    }
   ],
   "source": [
    "fun(1,2,3,4,5,6);"
   ]
  },
  {
   "cell_type": "code",
   "execution_count": 8,
   "id": "0f288829",
   "metadata": {},
   "outputs": [],
   "source": [
    "def f2(**kwargs):\n",
    "    print(kwargs);"
   ]
  },
  {
   "cell_type": "code",
   "execution_count": 10,
   "id": "542a93bb",
   "metadata": {},
   "outputs": [
    {
     "name": "stdout",
     "output_type": "stream",
     "text": [
      "{'name': 'dipan', 'lname': 'pramanik'}\n"
     ]
    }
   ],
   "source": [
    "f2(name=\"dipan\", lname=\"pramanik\");"
   ]
  },
  {
   "cell_type": "code",
   "execution_count": null,
   "id": "5f0232b5",
   "metadata": {},
   "outputs": [],
   "source": []
  }
 ],
 "metadata": {
  "kernelspec": {
   "display_name": "Python 3",
   "language": "python",
   "name": "python3"
  },
  "language_info": {
   "codemirror_mode": {
    "name": "ipython",
    "version": 3
   },
   "file_extension": ".py",
   "mimetype": "text/x-python",
   "name": "python",
   "nbconvert_exporter": "python",
   "pygments_lexer": "ipython3",
   "version": "3.11.0"
  }
 },
 "nbformat": 4,
 "nbformat_minor": 5
}
