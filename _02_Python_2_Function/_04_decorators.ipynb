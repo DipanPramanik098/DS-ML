{
 "cells": [
  {
   "cell_type": "code",
   "execution_count": 1,
   "id": "2a855ebc",
   "metadata": {},
   "outputs": [],
   "source": [
    "def show():\n",
    "    print(\"Hello World\");"
   ]
  },
  {
   "cell_type": "code",
   "execution_count": 2,
   "id": "f4ff5868",
   "metadata": {},
   "outputs": [
    {
     "name": "stdout",
     "output_type": "stream",
     "text": [
      "Hello World\n"
     ]
    }
   ],
   "source": [
    "show();"
   ]
  },
  {
   "cell_type": "code",
   "execution_count": 3,
   "id": "e6c0a94e",
   "metadata": {},
   "outputs": [],
   "source": [
    "users = {\n",
    "    \"Dipan\" : \"dip\",\n",
    "    \"pramanik\" : \"pra\"\n",
    "}"
   ]
  },
  {
   "cell_type": "code",
   "execution_count": 4,
   "id": "1bf3de6a",
   "metadata": {},
   "outputs": [],
   "source": [
    "def show2(userName , passWord):\n",
    "    if(userName in users and users[userName] == passWord):\n",
    "        print(\"Welcome\");\n",
    "    else:\n",
    "        print(\"Authentication Rejected\");\n"
   ]
  },
  {
   "cell_type": "code",
   "execution_count": 8,
   "id": "31f18ce2",
   "metadata": {},
   "outputs": [
    {
     "name": "stdout",
     "output_type": "stream",
     "text": [
      "Authentication Rejected\n",
      "Welcome\n"
     ]
    }
   ],
   "source": [
    "show2(\"Dipan\",\"ABXC\");\n",
    "show2(\"pramanik\",\"pra\");"
   ]
  },
  {
   "cell_type": "code",
   "execution_count": 10,
   "id": "cb6a54fa",
   "metadata": {},
   "outputs": [],
   "source": [
    "def logIn_required(func):\n",
    "    def wrapper(username, password,*args,**kwargs):\n",
    "        if username in users and users[username] == password : \n",
    "            \n",
    "            func(*args,**args);\n",
    "        else:\n",
    "            print(\"Not Authenticated\");\n",
    "    return wrapper;"
   ]
  },
  {
   "cell_type": "code",
   "execution_count": 12,
   "id": "c23ee4ec",
   "metadata": {},
   "outputs": [],
   "source": [
    "def add (a,b):\n",
    "    return a+b;"
   ]
  },
  {
   "cell_type": "code",
   "execution_count": 15,
   "id": "68c671ff",
   "metadata": {},
   "outputs": [],
   "source": [
    "protected_add = logIn_required(add);"
   ]
  },
  {
   "cell_type": "code",
   "execution_count": 16,
   "id": "890ad739",
   "metadata": {},
   "outputs": [],
   "source": [
    "add(1,2);"
   ]
  },
  {
   "cell_type": "code",
   "execution_count": 17,
   "id": "e2cdc6b0",
   "metadata": {},
   "outputs": [
    {
     "name": "stdout",
     "output_type": "stream",
     "text": [
      "3\n"
     ]
    }
   ],
   "source": [
    "print(add(1,2));"
   ]
  },
  {
   "cell_type": "code",
   "execution_count": 18,
   "id": "963dd10d",
   "metadata": {},
   "outputs": [
    {
     "name": "stdout",
     "output_type": "stream",
     "text": [
      "Not Authenticated\n"
     ]
    }
   ],
   "source": [
    "protected_add(\"Dipan\",\"avs\",1,2);"
   ]
  },
  {
   "cell_type": "code",
   "execution_count": null,
   "id": "17c27dd2",
   "metadata": {},
   "outputs": [],
   "source": []
  }
 ],
 "metadata": {
  "kernelspec": {
   "display_name": "Python 3",
   "language": "python",
   "name": "python3"
  },
  "language_info": {
   "codemirror_mode": {
    "name": "ipython",
    "version": 3
   },
   "file_extension": ".py",
   "mimetype": "text/x-python",
   "name": "python",
   "nbconvert_exporter": "python",
   "pygments_lexer": "ipython3",
   "version": "3.11.0"
  }
 },
 "nbformat": 4,
 "nbformat_minor": 5
}
