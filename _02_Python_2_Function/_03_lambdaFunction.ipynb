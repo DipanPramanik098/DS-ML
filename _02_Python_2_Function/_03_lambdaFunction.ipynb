{
 "cells": [
  {
   "cell_type": "code",
   "execution_count": 1,
   "id": "ca9e9aa8",
   "metadata": {},
   "outputs": [],
   "source": [
    "def add():\n",
    "    return 10+10;"
   ]
  },
  {
   "cell_type": "code",
   "execution_count": 2,
   "id": "5d5417b1",
   "metadata": {},
   "outputs": [
    {
     "name": "stdout",
     "output_type": "stream",
     "text": [
      "<function add at 0x0000014D217CAAC0>\n"
     ]
    }
   ],
   "source": [
    "print(add);"
   ]
  },
  {
   "cell_type": "code",
   "execution_count": 3,
   "id": "a85fc768",
   "metadata": {},
   "outputs": [],
   "source": [
    "def add2(a,b):\n",
    "    return a+b;"
   ]
  },
  {
   "cell_type": "code",
   "execution_count": 4,
   "id": "3437d059",
   "metadata": {},
   "outputs": [],
   "source": [
    "add2 = lambda a,b : a+b;"
   ]
  },
  {
   "cell_type": "code",
   "execution_count": 5,
   "id": "7b93da6c",
   "metadata": {},
   "outputs": [
    {
     "data": {
      "text/plain": [
       "30"
      ]
     },
     "execution_count": 5,
     "metadata": {},
     "output_type": "execute_result"
    }
   ],
   "source": [
    "add2(10,20)"
   ]
  },
  {
   "cell_type": "code",
   "execution_count": 8,
   "id": "42b4bd3a",
   "metadata": {},
   "outputs": [],
   "source": [
    "a = [(\"xyz\",98),(\"dipan\",10),(\"sagar\",12),(\"swagatam\",14)];\n"
   ]
  },
  {
   "cell_type": "code",
   "execution_count": 9,
   "id": "c0020401",
   "metadata": {},
   "outputs": [
    {
     "data": {
      "text/plain": [
       "[('dipan', 10), ('sagar', 12), ('swagatam', 14), ('xyz', 98)]"
      ]
     },
     "execution_count": 9,
     "metadata": {},
     "output_type": "execute_result"
    }
   ],
   "source": [
    "sorted(a)"
   ]
  },
  {
   "cell_type": "code",
   "execution_count": 10,
   "id": "2abb2409",
   "metadata": {},
   "outputs": [
    {
     "data": {
      "text/plain": [
       "[('dipan', 10), ('sagar', 12), ('swagatam', 14), ('xyz', 98)]"
      ]
     },
     "execution_count": 10,
     "metadata": {},
     "output_type": "execute_result"
    }
   ],
   "source": [
    "sorted(a, key = lambda x:x[1])"
   ]
  },
  {
   "cell_type": "code",
   "execution_count": null,
   "id": "23611699",
   "metadata": {},
   "outputs": [],
   "source": []
  }
 ],
 "metadata": {
  "kernelspec": {
   "display_name": "Python 3",
   "language": "python",
   "name": "python3"
  },
  "language_info": {
   "codemirror_mode": {
    "name": "ipython",
    "version": 3
   },
   "file_extension": ".py",
   "mimetype": "text/x-python",
   "name": "python",
   "nbconvert_exporter": "python",
   "pygments_lexer": "ipython3",
   "version": "3.11.0"
  }
 },
 "nbformat": 4,
 "nbformat_minor": 5
}
