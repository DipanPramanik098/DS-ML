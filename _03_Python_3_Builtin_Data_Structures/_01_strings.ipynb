{
 "cells": [
  {
   "cell_type": "code",
   "execution_count": 1,
   "id": "6d437465",
   "metadata": {},
   "outputs": [
    {
     "name": "stdout",
     "output_type": "stream",
     "text": [
      "Dipan\n"
     ]
    }
   ],
   "source": [
    "str1 = \"Dipan\";\n",
    "print(str1);"
   ]
  },
  {
   "cell_type": "code",
   "execution_count": 2,
   "id": "c3e37603",
   "metadata": {},
   "outputs": [],
   "source": [
    "str2 = '''This\n",
    "is a \n",
    "MultiLine String'''"
   ]
  },
  {
   "cell_type": "code",
   "execution_count": 3,
   "id": "ec43319b",
   "metadata": {},
   "outputs": [
    {
     "name": "stdout",
     "output_type": "stream",
     "text": [
      "This\n",
      "is a \n",
      "MultiLine String\n"
     ]
    }
   ],
   "source": [
    "print(str2);"
   ]
  },
  {
   "cell_type": "code",
   "execution_count": 4,
   "id": "eb8e0f80",
   "metadata": {},
   "outputs": [],
   "source": [
    "str = 'dipan'"
   ]
  },
  {
   "cell_type": "code",
   "execution_count": 5,
   "id": "1b394cde",
   "metadata": {},
   "outputs": [
    {
     "name": "stdout",
     "output_type": "stream",
     "text": [
      "dipan\n"
     ]
    }
   ],
   "source": [
    "print(str);"
   ]
  },
  {
   "cell_type": "code",
   "execution_count": 7,
   "id": "6c2730af",
   "metadata": {},
   "outputs": [
    {
     "name": "stdout",
     "output_type": "stream",
     "text": [
      "5\n"
     ]
    }
   ],
   "source": [
    "print(len(str))"
   ]
  },
  {
   "cell_type": "code",
   "execution_count": 8,
   "id": "5874ee1c",
   "metadata": {},
   "outputs": [],
   "source": [
    "## ord, chr"
   ]
  },
  {
   "cell_type": "code",
   "execution_count": 11,
   "id": "ca5f788c",
   "metadata": {},
   "outputs": [
    {
     "name": "stdout",
     "output_type": "stream",
     "text": [
      "65\n"
     ]
    }
   ],
   "source": [
    "print(ord('A'));"
   ]
  },
  {
   "cell_type": "code",
   "execution_count": 12,
   "id": "378890c5",
   "metadata": {},
   "outputs": [
    {
     "name": "stdout",
     "output_type": "stream",
     "text": [
      "\u000b\n"
     ]
    }
   ],
   "source": [
    "print(chr(11))"
   ]
  },
  {
   "cell_type": "code",
   "execution_count": 13,
   "id": "0135658f",
   "metadata": {},
   "outputs": [
    {
     "name": "stdout",
     "output_type": "stream",
     "text": [
      "A\n"
     ]
    }
   ],
   "source": [
    "print(chr(65))"
   ]
  },
  {
   "cell_type": "code",
   "execution_count": null,
   "id": "812a3e93",
   "metadata": {},
   "outputs": [],
   "source": []
  }
 ],
 "metadata": {
  "kernelspec": {
   "display_name": "Python 3",
   "language": "python",
   "name": "python3"
  },
  "language_info": {
   "codemirror_mode": {
    "name": "ipython",
    "version": 3
   },
   "file_extension": ".py",
   "mimetype": "text/x-python",
   "name": "python",
   "nbconvert_exporter": "python",
   "pygments_lexer": "ipython3",
   "version": "3.11.0"
  }
 },
 "nbformat": 4,
 "nbformat_minor": 5
}
