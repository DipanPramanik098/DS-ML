{
 "cells": [
  {
   "cell_type": "code",
   "execution_count": 1,
   "id": "f89f4b4a",
   "metadata": {},
   "outputs": [],
   "source": [
    "a = (1,2,3,4,5)"
   ]
  },
  {
   "cell_type": "code",
   "execution_count": 2,
   "id": "a503b6b1",
   "metadata": {},
   "outputs": [
    {
     "name": "stdout",
     "output_type": "stream",
     "text": [
      "(1, 2, 3, 4, 5)\n"
     ]
    }
   ],
   "source": [
    "print(a)"
   ]
  },
  {
   "cell_type": "code",
   "execution_count": 5,
   "id": "121b3e63",
   "metadata": {},
   "outputs": [],
   "source": [
    "x = 5\n",
    "b= 10"
   ]
  },
  {
   "cell_type": "code",
   "execution_count": 6,
   "id": "8e5810ad",
   "metadata": {},
   "outputs": [],
   "source": [
    "temp = x\n",
    "x = b\n",
    "b=temp"
   ]
  },
  {
   "cell_type": "code",
   "execution_count": 7,
   "id": "568461e2",
   "metadata": {},
   "outputs": [
    {
     "name": "stdout",
     "output_type": "stream",
     "text": [
      "10 5\n"
     ]
    }
   ],
   "source": [
    "print(x,b)"
   ]
  },
  {
   "cell_type": "code",
   "execution_count": 8,
   "id": "d8e19ec7",
   "metadata": {},
   "outputs": [],
   "source": [
    "y = 1,2"
   ]
  },
  {
   "cell_type": "code",
   "execution_count": 9,
   "id": "177f7054",
   "metadata": {},
   "outputs": [
    {
     "data": {
      "text/plain": [
       "tuple"
      ]
     },
     "execution_count": 9,
     "metadata": {},
     "output_type": "execute_result"
    }
   ],
   "source": [
    "type(y)"
   ]
  },
  {
   "cell_type": "code",
   "execution_count": 10,
   "id": "da582455",
   "metadata": {},
   "outputs": [],
   "source": [
    "m,n = y"
   ]
  },
  {
   "cell_type": "code",
   "execution_count": 11,
   "id": "75b3ed78",
   "metadata": {},
   "outputs": [
    {
     "name": "stdout",
     "output_type": "stream",
     "text": [
      "1\n"
     ]
    }
   ],
   "source": [
    "print(m)"
   ]
  },
  {
   "cell_type": "code",
   "execution_count": 12,
   "id": "d02d36f8",
   "metadata": {},
   "outputs": [
    {
     "name": "stdout",
     "output_type": "stream",
     "text": [
      "2\n"
     ]
    }
   ],
   "source": [
    "print(n)"
   ]
  },
  {
   "cell_type": "code",
   "execution_count": 13,
   "id": "281c3249",
   "metadata": {},
   "outputs": [],
   "source": [
    "a = (1,2,3)"
   ]
  },
  {
   "cell_type": "code",
   "execution_count": 14,
   "id": "3606ab66",
   "metadata": {},
   "outputs": [],
   "source": [
    "b = list(a)"
   ]
  },
  {
   "cell_type": "code",
   "execution_count": 15,
   "id": "ee514619",
   "metadata": {},
   "outputs": [
    {
     "name": "stdout",
     "output_type": "stream",
     "text": [
      "(1, 2, 3)\n"
     ]
    }
   ],
   "source": [
    "print(a)"
   ]
  },
  {
   "cell_type": "code",
   "execution_count": 16,
   "id": "410a6b07",
   "metadata": {},
   "outputs": [
    {
     "name": "stdout",
     "output_type": "stream",
     "text": [
      "[1, 2, 3]\n"
     ]
    }
   ],
   "source": [
    "print(b)"
   ]
  },
  {
   "cell_type": "code",
   "execution_count": 17,
   "id": "d2db893a",
   "metadata": {},
   "outputs": [],
   "source": [
    "def addSub(a,b):\n",
    "    return a-b, a+b"
   ]
  },
  {
   "cell_type": "code",
   "execution_count": 18,
   "id": "09d11ead",
   "metadata": {},
   "outputs": [],
   "source": [
    "sum , diff =  addSub(9,6)"
   ]
  },
  {
   "cell_type": "code",
   "execution_count": 19,
   "id": "3d0639ca",
   "metadata": {},
   "outputs": [
    {
     "name": "stdout",
     "output_type": "stream",
     "text": [
      "3 15\n"
     ]
    }
   ],
   "source": [
    "print(sum,diff)"
   ]
  },
  {
   "cell_type": "code",
   "execution_count": null,
   "id": "8e8adb9e",
   "metadata": {},
   "outputs": [],
   "source": []
  }
 ],
 "metadata": {
  "kernelspec": {
   "display_name": "Python 3",
   "language": "python",
   "name": "python3"
  },
  "language_info": {
   "codemirror_mode": {
    "name": "ipython",
    "version": 3
   },
   "file_extension": ".py",
   "mimetype": "text/x-python",
   "name": "python",
   "nbconvert_exporter": "python",
   "pygments_lexer": "ipython3",
   "version": "3.11.0"
  }
 },
 "nbformat": 4,
 "nbformat_minor": 5
}
