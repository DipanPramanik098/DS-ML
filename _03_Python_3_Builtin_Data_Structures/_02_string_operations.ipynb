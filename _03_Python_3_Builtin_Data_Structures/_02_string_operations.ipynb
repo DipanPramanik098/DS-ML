{
 "cells": [
  {
   "cell_type": "code",
   "execution_count": 1,
   "id": "07ad5327",
   "metadata": {},
   "outputs": [],
   "source": [
    "name = \"Dipan\";"
   ]
  },
  {
   "cell_type": "code",
   "execution_count": 2,
   "id": "bd65a88c",
   "metadata": {},
   "outputs": [],
   "source": [
    "a=1\n",
    "b=2\n",
    "c=3"
   ]
  },
  {
   "cell_type": "code",
   "execution_count": 3,
   "id": "d89ead48",
   "metadata": {},
   "outputs": [
    {
     "name": "stdout",
     "output_type": "stream",
     "text": [
      "1 - 2 - 3\n"
     ]
    }
   ],
   "source": [
    "print(\"%d - %d - %d\" % (a,b,c))"
   ]
  },
  {
   "cell_type": "code",
   "execution_count": 4,
   "id": "d8c130b7",
   "metadata": {},
   "outputs": [],
   "source": [
    "d = 'hello'"
   ]
  },
  {
   "cell_type": "code",
   "execution_count": 6,
   "id": "8c95e4bc",
   "metadata": {},
   "outputs": [
    {
     "name": "stdout",
     "output_type": "stream",
     "text": [
      "1 - 2 - 3 - hello\n"
     ]
    }
   ],
   "source": [
    "print(\"{} - {} - {} - {}\".format(a,b,c,d))"
   ]
  },
  {
   "cell_type": "code",
   "execution_count": null,
   "id": "7e044409",
   "metadata": {},
   "outputs": [],
   "source": [
    "\n"
   ]
  },
  {
   "cell_type": "code",
   "execution_count": 10,
   "id": "29127362",
   "metadata": {},
   "outputs": [
    {
     "name": "stdout",
     "output_type": "stream",
     "text": [
      "    Dipan   \n",
      "Dipan\n"
     ]
    }
   ],
   "source": [
    "#\n",
    "mn = \"    Dipan   \";\n",
    "print(mn)\n",
    "print(mn.strip())"
   ]
  },
  {
   "cell_type": "code",
   "execution_count": null,
   "id": "34c251b4",
   "metadata": {},
   "outputs": [],
   "source": []
  },
  {
   "cell_type": "code",
   "execution_count": 15,
   "id": "c51f93a1",
   "metadata": {},
   "outputs": [],
   "source": [
    "hi = 'hello i am dipan';"
   ]
  },
  {
   "cell_type": "code",
   "execution_count": 16,
   "id": "76b30177",
   "metadata": {},
   "outputs": [
    {
     "name": "stdout",
     "output_type": "stream",
     "text": [
      "['hello', 'i', 'am', 'dipan']\n"
     ]
    }
   ],
   "source": [
    "print(hi.split())"
   ]
  },
  {
   "cell_type": "code",
   "execution_count": 18,
   "id": "93d77a6e",
   "metadata": {},
   "outputs": [
    {
     "name": "stdout",
     "output_type": "stream",
     "text": [
      "hello i am pramanik\n"
     ]
    }
   ],
   "source": [
    "print(hi.replace('dipan','pramanik'));"
   ]
  },
  {
   "cell_type": "code",
   "execution_count": 20,
   "id": "3db1c9ed",
   "metadata": {},
   "outputs": [
    {
     "name": "stdout",
     "output_type": "stream",
     "text": [
      "1\n"
     ]
    }
   ],
   "source": [
    "print(hi.count('p'));"
   ]
  },
  {
   "cell_type": "code",
   "execution_count": null,
   "id": "8c4c7936",
   "metadata": {},
   "outputs": [],
   "source": []
  }
 ],
 "metadata": {
  "kernelspec": {
   "display_name": "Python 3",
   "language": "python",
   "name": "python3"
  },
  "language_info": {
   "codemirror_mode": {
    "name": "ipython",
    "version": 3
   },
   "file_extension": ".py",
   "mimetype": "text/x-python",
   "name": "python",
   "nbconvert_exporter": "python",
   "pygments_lexer": "ipython3",
   "version": "3.11.0"
  }
 },
 "nbformat": 4,
 "nbformat_minor": 5
}
