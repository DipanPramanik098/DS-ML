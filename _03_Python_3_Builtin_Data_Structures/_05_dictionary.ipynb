{
 "cells": [
  {
   "cell_type": "code",
   "execution_count": 1,
   "id": "8ec5afe9",
   "metadata": {},
   "outputs": [
    {
     "name": "stdout",
     "output_type": "stream",
     "text": [
      "{'swagatam': 'kolaghat'}\n"
     ]
    }
   ],
   "source": [
    "a = {\n",
    "    \"name\" : \"Dipan\",\n",
    "    \"age\" : 21,\n",
    "    \"subject\" : [\"cn\",\"dbms\",\"os\"],\n",
    "    \"friends\" :{\n",
    "        \"swagatam\" : \"kolaghat\"\n",
    "    }\n",
    "}\n",
    "\n",
    "print(a[\"friends\"]);"
   ]
  },
  {
   "cell_type": "markdown",
   "id": "d5fe710d",
   "metadata": {},
   "source": [
    "##Methods \n"
   ]
  },
  {
   "cell_type": "markdown",
   "id": "80e249ce",
   "metadata": {},
   "source": [
    "- get()\n",
    "-items()\n",
    "-keys()\n",
    "-values()\n",
    "-clear()"
   ]
  },
  {
   "cell_type": "markdown",
   "id": "b49b5718",
   "metadata": {},
   "source": []
  },
  {
   "cell_type": "code",
   "execution_count": 3,
   "id": "40caed9c",
   "metadata": {},
   "outputs": [
    {
     "name": "stdout",
     "output_type": "stream",
     "text": [
      "('name', 'Dipan')\n",
      "('age', 21)\n",
      "('subject', ['cn', 'dbms', 'os'])\n",
      "('friends', {'swagatam': 'kolaghat'})\n"
     ]
    }
   ],
   "source": [
    "for key in a.items():\n",
    "    print(key)"
   ]
  },
  {
   "cell_type": "code",
   "execution_count": 4,
   "id": "c48ac0b6",
   "metadata": {},
   "outputs": [
    {
     "name": "stdout",
     "output_type": "stream",
     "text": [
      "name  ->  Dipan\n",
      "age  ->  21\n",
      "subject  ->  ['cn', 'dbms', 'os']\n",
      "friends  ->  {'swagatam': 'kolaghat'}\n"
     ]
    }
   ],
   "source": [
    "for key,value in a.items():\n",
    "    print(key,\" -> \", value)"
   ]
  },
  {
   "cell_type": "code",
   "execution_count": 5,
   "id": "7c2f78a4",
   "metadata": {},
   "outputs": [
    {
     "name": "stdout",
     "output_type": "stream",
     "text": [
      "Dipan\n",
      "21\n",
      "['cn', 'dbms', 'os']\n",
      "{'swagatam': 'kolaghat'}\n"
     ]
    }
   ],
   "source": [
    "for val in a.values():\n",
    "    print(val)"
   ]
  },
  {
   "cell_type": "code",
   "execution_count": 6,
   "id": "2220f388",
   "metadata": {},
   "outputs": [
    {
     "name": "stdout",
     "output_type": "stream",
     "text": [
      "Dipan\n"
     ]
    }
   ],
   "source": [
    "print(a.get(\"name\"))"
   ]
  },
  {
   "cell_type": "code",
   "execution_count": 7,
   "id": "5ed625eb",
   "metadata": {},
   "outputs": [],
   "source": [
    "a.clear()"
   ]
  },
  {
   "cell_type": "code",
   "execution_count": 8,
   "id": "b5eda029",
   "metadata": {},
   "outputs": [
    {
     "name": "stdout",
     "output_type": "stream",
     "text": [
      "{}\n"
     ]
    }
   ],
   "source": [
    "print(a)"
   ]
  },
  {
   "cell_type": "code",
   "execution_count": 14,
   "id": "ba750f06",
   "metadata": {},
   "outputs": [],
   "source": [
    "student = []"
   ]
  },
  {
   "cell_type": "code",
   "execution_count": 17,
   "id": "71f8efca",
   "metadata": {},
   "outputs": [],
   "source": [
    "n = input()"
   ]
  },
  {
   "cell_type": "code",
   "execution_count": 16,
   "id": "ddf0f588",
   "metadata": {},
   "outputs": [
    {
     "name": "stdout",
     "output_type": "stream",
     "text": [
      "[{'roll-no': 1, 'name': 'Dipan', 'branch': 'cse'}, {'roll-no': 1, 'name': 'sagar', 'branch': 'ece'}]\n"
     ]
    }
   ],
   "source": [
    "students = []   # list to store student records\n",
    "\n",
    "n = int(input(\"Enter number of students: \"))   # convert to integer\n",
    "\n",
    "for _ in range(n):   # repeat n times\n",
    "    roll  = int(input(\"Enter roll number: \"))\n",
    "    name = input(\"Enter name: \")\n",
    "    branch = input(\"Enter branch: \")\n",
    "    \n",
    "    students.append({\n",
    "        \"roll-no\" : roll,\n",
    "        \"name\" : name,\n",
    "        \"branch\" : branch\n",
    "    })\n",
    "\n",
    "print(students)   # to verify the result\n"
   ]
  },
  {
   "cell_type": "code",
   "execution_count": 18,
   "id": "318e2398",
   "metadata": {},
   "outputs": [],
   "source": [
    "# keys in dictionary can be any immutable data structure\n"
   ]
  },
  {
   "cell_type": "code",
   "execution_count": null,
   "id": "655968a6",
   "metadata": {},
   "outputs": [],
   "source": []
  }
 ],
 "metadata": {
  "kernelspec": {
   "display_name": "Python 3",
   "language": "python",
   "name": "python3"
  },
  "language_info": {
   "codemirror_mode": {
    "name": "ipython",
    "version": 3
   },
   "file_extension": ".py",
   "mimetype": "text/x-python",
   "name": "python",
   "nbconvert_exporter": "python",
   "pygments_lexer": "ipython3",
   "version": "3.11.0"
  }
 },
 "nbformat": 4,
 "nbformat_minor": 5
}
